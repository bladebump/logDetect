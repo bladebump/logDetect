{
 "cells": [
  {
   "cell_type": "code",
   "execution_count": 34,
   "metadata": {},
   "outputs": [],
   "source": [
    "import datasets\n",
    "from datasets import load_dataset"
   ]
  },
  {
   "cell_type": "code",
   "execution_count": 33,
   "metadata": {},
   "outputs": [],
   "source": [
    "data = load_dataset(\"csv\",data_dir=\"data/match\")"
   ]
  },
  {
   "cell_type": "code",
   "execution_count": 35,
   "metadata": {},
   "outputs": [
    {
     "data": {
      "text/plain": [
       "DatasetDict({\n",
       "    train: Dataset({\n",
       "        features: ['id', 'method', 'user_agent', 'url', 'refer', 'body', 'lable'],\n",
       "        num_rows: 33219\n",
       "    })\n",
       "})"
      ]
     },
     "execution_count": 35,
     "metadata": {},
     "output_type": "execute_result"
    }
   ],
   "source": [
    "data"
   ]
  },
  {
   "cell_type": "code",
   "execution_count": 27,
   "metadata": {},
   "outputs": [],
   "source": [
    "# use Counter\n",
    "from collections import Counter"
   ]
  },
  {
   "cell_type": "code",
   "execution_count": 28,
   "metadata": {},
   "outputs": [
    {
     "data": {
      "text/plain": [
       "Counter({1: 14038, 2: 9939, 0: 6489, 3: 1397, 4: 697, 5: 659})"
      ]
     },
     "execution_count": 28,
     "metadata": {},
     "output_type": "execute_result"
    }
   ],
   "source": [
    "Counter(data['train']['lable'])"
   ]
  },
  {
   "cell_type": "code",
   "execution_count": 30,
   "metadata": {},
   "outputs": [
    {
     "data": {
      "text/plain": [
       "Counter({'GET': 28256,\n",
       "         'POST': 4583,\n",
       "         'PUT': 242,\n",
       "         'HEAD': 122,\n",
       "         'OPTIONS': 2,\n",
       "         '(': 2,\n",
       "         'PATCH': 2,\n",
       "         '\\\\xAC\\\\xED\\\\0\\\\x05sr\\\\0\\\\x11java.util.HashSet\\\\xBAD\\\\x85\\\\x95\\\\x96\\\\xB8\\\\xB74\\\\x03\\\\0\\\\0xpw': 1,\n",
       "         '\\\\xAC\\\\xED\\\\0\\\\x05sr\\\\0\\\\x17java.util.LinkedHashSet\\\\xD8l\\\\xD7Z\\\\x95\\\\xDD*\\\\x1E\\\\x02\\\\0\\\\0xr\\\\0\\\\x11java.util.HashSet\\\\xBAD\\\\x85\\\\x95\\\\x96\\\\xB8\\\\xB74\\\\x03\\\\0\\\\0xpw': 1,\n",
       "         '\\\\xAC\\\\xED\\\\0\\\\x05sr\\\\02sun.reflect.annotation.AnnotationInvocationHandlerU\\\\xCA\\\\xF5\\\\x0F\\\\x15\\\\xCB~\\\\xA5\\\\x02\\\\0\\\\x02L\\\\0': 1,\n",
       "         '\\x04\\x03\\\\xa8W\\\\xc0': 1,\n",
       "         '{H\\\\xf7\\\\x87\\\\xbbB\\\\xec\\\\x8e+\\\\xcb\\\\x90\\x07\\\\xeb\\\\xf1\\\\x88\\\\xa3': 1,\n",
       "         '\\\\xc0\\x01': 1,\n",
       "         '~\\\\xd0Y\\\\xb5\\\\xf5\\\\x87s\\\\xb9X\\x14\\\\x87\\\\xee\\\\xb7\\\\x93\\\\/\\\\x94\\\\xb1\\\\x87\\\\xa2\\\\xc9D\\x12~(\\x12\\\\xa5u\\\\xd5\\\\xeda\\\\xd0\\\\xc9\\\\xe0\\\\xbc\\\\xe2': 1,\n",
       "         '\\\\x124\\\\x02\\\\x11\\\\x02\\\\x02\\\\0\\\\x08HTTP/1.1\\\\0\\\\0\\\\x01/\\\\0\\\\0\\\\x0F123.132.250.182\\\\0\\\\xFF\\\\xFF\\\\0\\\\x0F123.132.250.182\\\\0\\\\0P\\\\0\\\\0': 1,\n",
       "         '\\\\0\\\\0\\\\0\\\\0\\\\0\\\\0\\\\0\\\\0\\\\0\\\\0\\\\0\\\\0\\\\0\\\\0\\\\0\\\\0\\\\0\\\\0\\\\0\\\\0\\\\0\\\\0\\\\0\\\\0\\\\0\\\\0\\\\0\\\\0\\\\0\\\\0\\\\0\\\\0\\\\0\\\\0\\\\0\\\\0\\\\0\\\\0\\\\0\\\\0\\\\0\\\\0\\\\0\\\\0\\\\0\\\\0\\\\0\\\\0\\\\0\\\\0\\\\0\\\\0\\\\0\\\\0\\\\0\\\\0\\\\0\\\\0\\\\0\\\\0\\\\0\\\\0\\\\0\\\\0\\\\0\\\\0\\\\0\\\\0\\\\0\\\\0\\\\0\\\\0\\\\0\\\\0\\\\0\\\\0\\\\0\\\\0\\\\0\\\\0\\\\0\\\\0\\\\0\\\\0\\\\0\\\\0\\\\0\\\\0\\\\0\\\\0\\\\0\\\\0\\\\0\\\\0\\\\0\\\\0\\\\0\\\\0\\\\0\\\\0\\\\0\\\\0\\\\0\\\\0\\\\0\\\\0\\\\0\\\\0\\\\0\\\\0\\\\0\\\\0\\\\0\\\\0\\\\0\\\\0\\\\0\\\\0\\\\0\\\\0\\\\0\\\\0\\\\0\\\\0\\\\0\\\\0\\\\0\\\\0\\\\0\\\\0\\\\0\\\\0\\\\0\\\\0\\\\0\\\\0\\\\0\\\\0\\\\0\\\\0\\\\0\\\\0\\\\0\\\\0\\\\0\\\\0\\\\0\\\\0\\\\0\\\\0\\\\0\\\\0\\\\0\\\\0\\\\0\\\\0\\\\0\\\\0\\\\0\\\\0\\\\0\\\\0\\\\0\\\\0\\\\0\\\\0\\\\0\\\\0\\\\0\\\\0\\\\0\\\\0\\\\0\\\\0\\\\0\\\\0\\\\0\\\\0\\\\0\\\\0\\\\0\\\\0\\\\0\\\\0\\\\0\\\\0\\\\0\\\\0\\\\0\\\\0\\\\0\\\\0\\\\0\\\\0\\\\0\\\\0\\\\0\\\\0\\\\0\\\\0\\\\0\\\\0\\\\0\\\\0\\\\0\\\\0\\\\0\\\\0\\\\0\\\\0\\\\0\\\\0\\\\0\\\\0\\\\0\\\\0\\\\0\\\\0\\\\0\\\\0\\\\0\\\\0\\\\0\\\\0\\\\0\\\\0\\\\0\\\\0\\\\0\\\\0\\\\0\\\\0\\\\0\\\\0\\\\0\\\\0\\\\0\\\\0\\\\0\\\\0\\\\0\\\\0\\\\0\\\\0\\\\0\\\\0\\\\0\\\\0\\\\0\\\\0\\\\0\\\\0\\\\0\\\\0\\\\0\\\\0\\\\0\\\\0\\\\0\\\\0\\\\0\\\\0\\\\0\\\\0\\\\0\\\\0\\\\0\\\\0\\\\0\\\\0\\\\0\\\\0\\\\0\\\\0\\\\0\\\\0\\\\0\\\\0\\\\0\\\\0\\\\0\\\\0\\\\0\\\\0\\\\0\\\\0\\\\0\\\\0\\\\0\\\\0\\\\0\\\\0\\\\0\\\\0\\\\0\\\\0\\\\0\\\\0\\\\0\\\\0\\\\0\\\\0\\\\0\\\\0\\\\0\\\\0\\\\0\\\\0\\\\0\\\\0\\\\0\\\\0\\\\0\\\\0\\\\0\\\\0\\\\0\\\\0\\\\0\\\\0\\\\0\\\\0\\\\0\\\\0\\\\0\\\\0\\\\0\\\\0\\\\0\\\\0\\\\0\\\\0\\\\0\\\\0\\\\0\\\\0\\\\0\\\\0\\\\0\\\\0\\\\0\\\\0\\\\0\\\\0\\\\0\\\\0\\\\0\\\\0\\\\0\\\\0\\\\0\\\\0\\\\0\\\\0\\\\0\\\\0\\\\0\\\\0\\\\0\\\\0\\\\0\\\\0\\\\0\\\\0\\\\0\\\\0\\\\0\\\\0{\"common\":{\"mnc\":\"02\",\"app_internal_version\":\"5009010604\",\"language\":\"CN\",\"app_version\":\"5009010604\",\"idfa_open\":\"0\",\"unix\":\"1633932763087.169\",\"mcc\":\"460\",\"sid\":\"AES46612F6D7065667337626367444E4352346D785A34773D3D\",\"package_name\":\"com.moji.MojiWeather\",\"net\":\"4g\",\"identifier\":\"00000000-0000-0000-0000-000000000000\",\"platform\":\"iPhone\",\"token\":\"b641f51d8d3b9f9212404de12de2e42d66a910a965c2ce5c0b8b188555dda43b\",\"current_city\":\"600\",\"idfv\":\"0A6A35B2-11E0-4916-B95D-FE40044C373C\",\"height\":1792,\"versionType\":\"1\",\"width\":828,\"os_version\":\"14.7.1\",\"locationcity\":\"0\",\"vip\":\"0\",\"pid\":\"9000\",\"uid\":514214201151324160,\"snsid\":53595275,\"uaid\":\"514214201323290624\",\"device\":\"iPhone12,1\",\"security_request\":\"0\"},\"params\":{\"free_name2\":\"[{\\\\\"ids\\\\\":\\\\\"youzan\\\\\",\\\\\"propertys\\\\\":{\\\\\"url\\\\\":\\\\\"https:\\\\\\\\\\\\/\\\\\\\\\\\\/shop91612047.youzan.com\\\\\\\\\\\\/v2\\\\\\\\\\\\/feature\\\\\\\\\\\\/cXnz05xOiV?dc_ps=2893317959160254468.200001\\\\\",\\\\\"source_id\\\\\":\\\\\"1-9-7-877\\\\\"}}]\",\"temperature\":\"19\",\"brand\":\"apple\",\"instl_pid\":\"appstore\",\"before_event_id\":\"1-1-1-2\",\"city_id\":\"600\",\"free_name1\":\"1-9-7-877\",\"weather\":\"晴\",\"session_id\":\"18B5BB8F51BE421B8A1BD693E3E68BA4\",\"create_time\":1633934691517.582,\"gender\":\"1\",\"event_id\":\"1-1-1-29\"}}': 1,\n",
       "         't3': 1})"
      ]
     },
     "execution_count": 30,
     "metadata": {},
     "output_type": "execute_result"
    }
   ],
   "source": [
    "Counter(data['train']['method'])"
   ]
  },
  {
   "cell_type": "code",
   "execution_count": 36,
   "metadata": {},
   "outputs": [],
   "source": [
    "from pathlib import Path\n",
    "def load_files_to_dict(filepath:Path):\n",
    "    if filepath.is_dir():\n",
    "        label = 0\n",
    "        files = filepath.glob(\"*.csv\")\n",
    "        total = []\n",
    "        for file in files:\n",
    "            with open(file,'r') as f:\n",
    "                lines = f.readlines()\n",
    "                for line in lines:\n",
    "                    total.append({'text':line,'label':label})\n",
    "            label += 1\n",
    "    return total"
   ]
  },
  {
   "cell_type": "code",
   "execution_count": 41,
   "metadata": {},
   "outputs": [],
   "source": [
    "line_data = load_files_to_dict(Path(\"data/match/train\"))"
   ]
  },
  {
   "cell_type": "code",
   "execution_count": 43,
   "metadata": {},
   "outputs": [
    {
     "data": {
      "text/plain": [
       "{'text': 'id,method,user_agent,url,refer,body,lable\\n', 'label': 0}"
      ]
     },
     "execution_count": 43,
     "metadata": {},
     "output_type": "execute_result"
    }
   ],
   "source": [
    "line_data[0]"
   ]
  },
  {
   "cell_type": "code",
   "execution_count": 48,
   "metadata": {},
   "outputs": [],
   "source": [
    "data = datasets.Dataset.from_list(line_data)"
   ]
  },
  {
   "cell_type": "code",
   "execution_count": 49,
   "metadata": {},
   "outputs": [
    {
     "data": {
      "text/plain": [
       "Dataset({\n",
       "    features: ['text', 'label'],\n",
       "    num_rows: 33225\n",
       "})"
      ]
     },
     "execution_count": 49,
     "metadata": {},
     "output_type": "execute_result"
    }
   ],
   "source": [
    "data"
   ]
  },
  {
   "cell_type": "code",
   "execution_count": 52,
   "metadata": {},
   "outputs": [
    {
     "data": {
      "text/plain": [
       "'17902,GET,Dalvik/2.1.0 (Linux; U; Android 11; SM-G9860 Build/RP1A.200720.012),/livemsg?ad_type=WL_WK&ty=web&pu=0&openudid=ed7c82fd9fe8cd29fcab434ece87b269&vid=d3028h8c7mg&duration=49&offline=0&adselector=Y&from=5&live=0&channelId=news_news_top&oadid=&articleId=20191130V0F0J200&adaptor=1&appversion=211115&l=116&newnettype=1&chid=2&isAdVideo=false&coverid=&v=QNaPhoneV6.6.80&pf=aphone&guid=9cb7d24895913ddc0dec43f0100017e1531b&step=100&page=detail&real_adid=&requestid=e3fb4e04-70ea-49c4-ae4d-aac07a6780ac&data=Ae0Rd76AFlCmTsYmAc6n0Il4waMxVP2cmpzt6%2FkWFQToZPSqL29is9rr7AEx4LMHGYU9eI57f41z3wUB%2BzR0ziREpcF%2FxEwrNqpHyM%2FPK2gTAYxDVkH1pDUy8X%2BguKkuokT3V%2FeqGAI0gv3kQVvEUAG1rbT5T83CsDWW6yI%2Fg8BWA8eqoSzVJbdHx78QHeEkwJeNX38sp9%2B01IucHHpO7RnZpqx9wUvh04uBakaqaA29T5udK1h3PT2inkATsHqkXyy38hmLMwN5ncFX8TpOAf1a6WeeNyQYkTJbF6wmkUuMvOOVjiuF3azAtiBLhJ0GnyXkuGm6non4KOVX1OPObQXxke4Fj45amLGDAD%2FjOGEl8KY2eAxhjViOrEt7gNsNZEDvqtyWAc0nVJ8arsjQwTCmDWGLPMvsifPVXiH4Re6f7Ynk3D4y3aaQG20xyHJnS4Cps1PYzqCSqqhODer6RO%2B506oCX0zeWLB0RzvuPN4EckDF7Iv8tkOA173L8z%2FVg4QPJ4NKlUGO9MdeL5FhQr9IhOdaR6q%2BdKlpggMbbvmeySwgP8ofV9ci5qLgQB8FTSOLECNRSN4TxOXQIuQr334XTPnWx8OokTGG4bEnkM6jHhteOzi9MHKC8YuVngKZ1g3QrwSs5RefyMNbVEYaGRe6I3V3pyAhblVXEnu0bxEROm%2BFFQymcEFExNfVq5jNLO7SVgJV%2FVtwArk9WnymtiTCrfXA%2BBbk5B3XThgPodbpKssGhUFg0KzkbOM6h9HaaMhyjSyUJ0upoA5OgcvntbTL5RGA88NBvC2PYWf7xAiRb2vjjTfYpcMNq%2Bcd8ExmafSG%2Fw3M5olOOQ5Z%2FaJw87oiwSrYkJEdCrBh5QkPiQy1PQgQwfKvymlrQquZp4nUg5VhTYZl2LgX4WkoGXmiDzuizjWVoIMYPL8Iaw6H1s55ICV8Xi55%2B%2B3mD8XBjBZ36RINtgaud8wY7taYb4CCwVgYOZAuQn%2B41bvS4Oo2yWQerZT%2B4dfa9AliAni3YpWp5qDJcWMpK56sYDiaKIaayRc4gB7S94BBeF8RP8rgWfqE43memKbLpJg09MVAZagQz7O%2FrVDsL%2FEe4gy5BTYPjFcTfYKmChVSIfGCEZGLMS461YwINALJlw0R087uUbftF3vmO%2BkEw7FmxAym1cJoT8EafKRxz9c6q111Z445zQL08YDhVVJsCaQp34Q6rMN7v%2Fzw9UVe7ckJGVYlIX8d2QPtfEDGP3%2FPMCbdsxvXYhrg9bGyDUSxBsL0tOvXx6%2BU5u6k2C2YhUW9HAaOhCzEMukG3Y7%2FA%2B77Fi9rYX3wGfvInQJ4eeyvPu19UBIYjoCugg0pY5sT6nP6MaLa6yqt05EfwFX2or4HoaeY%2FOSYcX9VUT%2BzDQunhYI6v1xK9YiFYKHOpUhEwP7fytdHqBPdxhaGkqefnd4KHAL%2Fng62hOMy,,GET /livemsg?ad_type=WL_WK&ty=web&pu=0&openudid=ed7c82fd9fe8cd29fcab434ece87b269&vid=d3028h8c7mg&duration=49&offline=0&adselector=Y&from=5&live=0&channelId=news_news_top&oadid=&articleId=20191130V0F0J200&adaptor=1&appversion=211115&l=116&newnettype=1&chid=2&isAdVideo=false&coverid=&v=QNaPhoneV6.6.80&pf=aphone&guid=9cb7d24895913ddc0dec43f0100017e1531b&step=100&page=detail&real_adid=&requestid=e3fb4e04-70ea-49c4-ae4d-aac07a6780ac&data=Ae0Rd76AFlCmTsYmAc6n0Il4waMxVP2cmpzt6%2FkWFQToZPSqL29is9rr7AEx4LMHGYU9eI57f41z3wUB%2BzR0ziREpcF%2FxEwrNqpHyM%2FPK2gTAYxDVkH1pDUy8X%2BguKkuokT3V%2FeqGAI0gv3kQVvEUAG1rbT5T83CsDWW6yI%2Fg8BWA8eqoSzVJbdHx78QHeEkwJeNX38sp9%2B01IucHHpO7RnZpqx9wUvh04uBakaqaA29T5udK1h3PT2inkATsHqkXyy38hmLMwN5ncFX8TpOAf1a6WeeNyQYkTJbF6wmkUuMvOOVjiuF3azAtiBLhJ0GnyXkuGm6non4KOVX1OPObQXxke4Fj45amLGDAD%2FjOGEl8KY2eAxhjViOrEt7gNsNZEDvqtyWAc0nVJ8arsjQwTCmDWGLPMvsifPVXiH4Re6f7Ynk3D4y3aaQG20xyHJnS4Cps1PYzqCSqqhODer6RO%2B506oCX0zeWLB0RzvuPN4EckDF7Iv8tkOA173L8z%2FVg4QPJ4NKlUGO9MdeL5FhQr9IhOdaR6q%2BdKlpggMbbvmeySwgP8ofV9ci5qLgQB8FTSOLECNRSN4TxOXQIuQr334XTPnWx8OokTGG4bEnkM6jHhteOzi9MHKC8YuVngKZ1g3QrwSs5RefyMNbVEYaGRe6I3V3pyAhblVXEnu0bxEROm%2BFFQymcEFExNfVq5jNLO7SVgJV%2FVtwArk9WnymtiTCrfXA%2BBbk5B3XThgPodbpKssGhUFg0KzkbOM6h9HaaMhyjSyUJ0upoA5OgcvntbTL5RGA88NBvC2PYWf7xAiRb2vjjTfYpcMNq%2Bcd8ExmafSG%2Fw3M5olOOQ5Z%2FaJw87oiwSrYkJEdCrBh5QkPiQy1PQgQwfKvymlrQquZp4nUg5VhTYZl2LgX4WkoGXmiDzuizjWVoIMYPL8Iaw6H1s55ICV8Xi55%2B%2B3mD8XBjBZ36RINtgaud8wY7taYb4CCwVgYOZAuQn%2B41bvS4Oo2yWQerZT%2B4dfa9AliAni3YpWp5qDJcWMpK56sYDiaKIaayRc4gB7S94BBeF8RP8rgWfqE43memKbLpJg09MVAZagQz7O%2FrVDsL%2FEe4gy5BTYPjFcTfYKmChVSIfGCEZGLMS461YwINALJlw0R087uUbftF3vmO%2BkEw7FmxAym1cJoT8EafKRxz9c6q111Z445zQL08YDhVVJsCaQp34Q6rMN7v%2Fzw9UVe7ckJGVYlIX8d2QPtfEDGP3%2FPMCbdsxvXYhrg9bGyDUSxBsL0tOvXx6%2BU5u6k2C2YhUW9HAaOhCzEMukG3Y7%2FA%2B77Fi9rYX3wGfvInQJ4eeyvPu19UBIYjoCugg0pY5sT6nP6MaLa6yqt05EfwFX2or4HoaeY%2FOSYcX9VUT%2BzDQunhYI6v1xK9YiFYKHOpUhEwP7fytdHqBPdxhaGkqefnd4KHAL%2Fng62hOMy HTTP/1.1 User-Agent: Dalvik/2.1.0 (Linux; U; Android 11; SM-G9860 Build/RP1A.200720.012) Host: lives.l.qq.com Connection: Keep-Alive Accept-Encoding: gzip Cookie: qz_gdt=luh2cymqaeajqqpyfuxa; appuser=38C8E53404943377; LWIturn=281; o_minduid=EVHAB2Ay_-OVWWhN0sFeLIgoKrm-20zJ; LWJturn=805; orderid=4088794684_1634449856; LWKturn=555; Lturn=852; LWSJturn=102; LWCZCturn=342  ,1\\n'"
      ]
     },
     "execution_count": 52,
     "metadata": {},
     "output_type": "execute_result"
    }
   ],
   "source": [
    "data['text'][1]"
   ]
  },
  {
   "cell_type": "code",
   "execution_count": null,
   "metadata": {},
   "outputs": [],
   "source": []
  }
 ],
 "metadata": {
  "kernelspec": {
   "display_name": "log",
   "language": "python",
   "name": "python3"
  },
  "language_info": {
   "codemirror_mode": {
    "name": "ipython",
    "version": 3
   },
   "file_extension": ".py",
   "mimetype": "text/x-python",
   "name": "python",
   "nbconvert_exporter": "python",
   "pygments_lexer": "ipython3",
   "version": "3.11.4"
  },
  "orig_nbformat": 4
 },
 "nbformat": 4,
 "nbformat_minor": 2
}
